{
 "cells": [
  {
   "cell_type": "markdown",
   "id": "287dcd88",
   "metadata": {},
   "source": [
    "# MODELLING AND EVALUATION"
   ]
  },
  {
   "cell_type": "code",
   "execution_count": 1,
   "id": "88ea5b14",
   "metadata": {},
   "outputs": [],
   "source": [
    "import numpy as np\n",
    "import pandas as pd\n",
    "import matplotlib.pyplot as plt\n",
    "import seaborn as sns\n",
    "from joblib import Parallel,delayed,dump\n",
    "\n",
    "from sklearn.impute import SimpleImputer\n",
    "from sklearn.ensemble import ExtraTreesClassifier,AdaBoostClassifier\n",
    "from sklearn.metrics import confusion_matrix, classification_report\n",
    "from sklearn.model_selection import train_test_split"
   ]
  },
  {
   "cell_type": "code",
   "execution_count": 2,
   "id": "6f715972",
   "metadata": {},
   "outputs": [],
   "source": [
    "##custom functions from cust_funcs.py\n",
    "from cust_funcs import linear_impute_transform,linear_imputer,prepare_dataset,prepare_training_features"
   ]
  },
  {
   "cell_type": "code",
   "execution_count": 9,
   "id": "e7b9cf97",
   "metadata": {},
   "outputs": [],
   "source": [
    "df=pd.read_csv('Data/training.csv')\n",
    "X,weights,y=prepare_dataset(df)"
   ]
  },
  {
   "cell_type": "markdown",
   "id": "099461d8",
   "metadata": {},
   "source": [
    "## Building a Model for Boosted Extremely Randomized Tree (BXT)"
   ]
  },
  {
   "cell_type": "markdown",
   "id": "d94e9001",
   "metadata": {},
   "source": [
    "- This is a hybrid tree model which theoretically should work well in cases on unabalanced and overlapping datasets such as ours\n",
    "- Traditional boosted methods such as **AdaBoost** uses an ensemble of weak learners to produce a strong master learner.\n",
    "- This is achieved through a decision rule for the master learner that is a weighted combination of the base learners outcomes     and the weights are usually a function of the weak learners accuracy\n",
    " $$\n",
    " \\begin{align}\n",
    " M_J=\\sum_j \\alpha_jh_j(x)\n",
    " \\end{align}\n",
    " $$\n",
    "- This usually leads to high varaince and low bias, ie it increases the risk of overfitting especially with unbalaced datasets\n",
    "- A Random Forest algorithm takes care of this problem through bagging after generating random trees which are split at nodes that redices entropy from a set of randomly selected features\n",
    "- An extremely randomized tree (ET) is one of the newer incarnations of the random forest method which introduce further randomization in the tree construction process.\n",
    "-  While random forests attempt to create diversified trees by usinga bootstrap samples, ETs work like random forests but take the randomization one step further by choosing a random split point at each node rather than searching for the best split. This ensures the creation of strongly decorrelated and diverse trees.\n",
    "- ETs have a computational benefit because they do not search for the best split at each node. The algorithm we propose here combines a bagged ensemble of ETs with a boosting framework. This nested structure can prevent overfitting, which is a major drawback of AdaBoost."
   ]
  },
  {
   "cell_type": "code",
   "execution_count": 5,
   "id": "ee18d4e0",
   "metadata": {},
   "outputs": [],
   "source": [
    "trees=ExtraTreesClassifier(n_estimators=50,max_features=None)\n",
    "BXT=AdaBoostClassifier(estimator=trees,n_estimators=50)"
   ]
  },
  {
   "cell_type": "markdown",
   "id": "eed25ce7",
   "metadata": {},
   "source": [
    "## Split, Train and Test"
   ]
  },
  {
   "cell_type": "code",
   "execution_count": 6,
   "id": "b9d2e658",
   "metadata": {},
   "outputs": [],
   "source": [
    "X_train,X_test,y_train,y_test=train_test_split(X,y,test_size=0.3,random_state=42)"
   ]
  },
  {
   "cell_type": "code",
   "execution_count": 14,
   "id": "6ed0825e",
   "metadata": {},
   "outputs": [
    {
     "data": {
      "text/html": [
       "<style>#sk-container-id-1 {color: black;background-color: white;}#sk-container-id-1 pre{padding: 0;}#sk-container-id-1 div.sk-toggleable {background-color: white;}#sk-container-id-1 label.sk-toggleable__label {cursor: pointer;display: block;width: 100%;margin-bottom: 0;padding: 0.3em;box-sizing: border-box;text-align: center;}#sk-container-id-1 label.sk-toggleable__label-arrow:before {content: \"▸\";float: left;margin-right: 0.25em;color: #696969;}#sk-container-id-1 label.sk-toggleable__label-arrow:hover:before {color: black;}#sk-container-id-1 div.sk-estimator:hover label.sk-toggleable__label-arrow:before {color: black;}#sk-container-id-1 div.sk-toggleable__content {max-height: 0;max-width: 0;overflow: hidden;text-align: left;background-color: #f0f8ff;}#sk-container-id-1 div.sk-toggleable__content pre {margin: 0.2em;color: black;border-radius: 0.25em;background-color: #f0f8ff;}#sk-container-id-1 input.sk-toggleable__control:checked~div.sk-toggleable__content {max-height: 200px;max-width: 100%;overflow: auto;}#sk-container-id-1 input.sk-toggleable__control:checked~label.sk-toggleable__label-arrow:before {content: \"▾\";}#sk-container-id-1 div.sk-estimator input.sk-toggleable__control:checked~label.sk-toggleable__label {background-color: #d4ebff;}#sk-container-id-1 div.sk-label input.sk-toggleable__control:checked~label.sk-toggleable__label {background-color: #d4ebff;}#sk-container-id-1 input.sk-hidden--visually {border: 0;clip: rect(1px 1px 1px 1px);clip: rect(1px, 1px, 1px, 1px);height: 1px;margin: -1px;overflow: hidden;padding: 0;position: absolute;width: 1px;}#sk-container-id-1 div.sk-estimator {font-family: monospace;background-color: #f0f8ff;border: 1px dotted black;border-radius: 0.25em;box-sizing: border-box;margin-bottom: 0.5em;}#sk-container-id-1 div.sk-estimator:hover {background-color: #d4ebff;}#sk-container-id-1 div.sk-parallel-item::after {content: \"\";width: 100%;border-bottom: 1px solid gray;flex-grow: 1;}#sk-container-id-1 div.sk-label:hover label.sk-toggleable__label {background-color: #d4ebff;}#sk-container-id-1 div.sk-serial::before {content: \"\";position: absolute;border-left: 1px solid gray;box-sizing: border-box;top: 0;bottom: 0;left: 50%;z-index: 0;}#sk-container-id-1 div.sk-serial {display: flex;flex-direction: column;align-items: center;background-color: white;padding-right: 0.2em;padding-left: 0.2em;position: relative;}#sk-container-id-1 div.sk-item {position: relative;z-index: 1;}#sk-container-id-1 div.sk-parallel {display: flex;align-items: stretch;justify-content: center;background-color: white;position: relative;}#sk-container-id-1 div.sk-item::before, #sk-container-id-1 div.sk-parallel-item::before {content: \"\";position: absolute;border-left: 1px solid gray;box-sizing: border-box;top: 0;bottom: 0;left: 50%;z-index: -1;}#sk-container-id-1 div.sk-parallel-item {display: flex;flex-direction: column;z-index: 1;position: relative;background-color: white;}#sk-container-id-1 div.sk-parallel-item:first-child::after {align-self: flex-end;width: 50%;}#sk-container-id-1 div.sk-parallel-item:last-child::after {align-self: flex-start;width: 50%;}#sk-container-id-1 div.sk-parallel-item:only-child::after {width: 0;}#sk-container-id-1 div.sk-dashed-wrapped {border: 1px dashed gray;margin: 0 0.4em 0.5em 0.4em;box-sizing: border-box;padding-bottom: 0.4em;background-color: white;}#sk-container-id-1 div.sk-label label {font-family: monospace;font-weight: bold;display: inline-block;line-height: 1.2em;}#sk-container-id-1 div.sk-label-container {text-align: center;}#sk-container-id-1 div.sk-container {/* jupyter's `normalize.less` sets `[hidden] { display: none; }` but bootstrap.min.css set `[hidden] { display: none !important; }` so we also need the `!important` here to be able to override the default hidden behavior on the sphinx rendered scikit-learn.org. See: https://github.com/scikit-learn/scikit-learn/issues/21755 */display: inline-block !important;position: relative;}#sk-container-id-1 div.sk-text-repr-fallback {display: none;}</style><div id=\"sk-container-id-1\" class=\"sk-top-container\"><div class=\"sk-text-repr-fallback\"><pre>AdaBoostClassifier(estimator=ExtraTreesClassifier(max_features=None,\n",
       "                                                  n_estimators=50))</pre><b>In a Jupyter environment, please rerun this cell to show the HTML representation or trust the notebook. <br />On GitHub, the HTML representation is unable to render, please try loading this page with nbviewer.org.</b></div><div class=\"sk-container\" hidden><div class=\"sk-item sk-dashed-wrapped\"><div class=\"sk-label-container\"><div class=\"sk-label sk-toggleable\"><input class=\"sk-toggleable__control sk-hidden--visually\" id=\"sk-estimator-id-1\" type=\"checkbox\" ><label for=\"sk-estimator-id-1\" class=\"sk-toggleable__label sk-toggleable__label-arrow\">AdaBoostClassifier</label><div class=\"sk-toggleable__content\"><pre>AdaBoostClassifier(estimator=ExtraTreesClassifier(max_features=None,\n",
       "                                                  n_estimators=50))</pre></div></div></div><div class=\"sk-parallel\"><div class=\"sk-parallel-item\"><div class=\"sk-item\"><div class=\"sk-label-container\"><div class=\"sk-label sk-toggleable\"><input class=\"sk-toggleable__control sk-hidden--visually\" id=\"sk-estimator-id-2\" type=\"checkbox\" ><label for=\"sk-estimator-id-2\" class=\"sk-toggleable__label sk-toggleable__label-arrow\">estimator: ExtraTreesClassifier</label><div class=\"sk-toggleable__content\"><pre>ExtraTreesClassifier(max_features=None, n_estimators=50)</pre></div></div></div><div class=\"sk-serial\"><div class=\"sk-item\"><div class=\"sk-estimator sk-toggleable\"><input class=\"sk-toggleable__control sk-hidden--visually\" id=\"sk-estimator-id-3\" type=\"checkbox\" ><label for=\"sk-estimator-id-3\" class=\"sk-toggleable__label sk-toggleable__label-arrow\">ExtraTreesClassifier</label><div class=\"sk-toggleable__content\"><pre>ExtraTreesClassifier(max_features=None, n_estimators=50)</pre></div></div></div></div></div></div></div></div></div></div>"
      ],
      "text/plain": [
       "AdaBoostClassifier(estimator=ExtraTreesClassifier(max_features=None,\n",
       "                                                  n_estimators=50))"
      ]
     },
     "execution_count": 14,
     "metadata": {},
     "output_type": "execute_result"
    }
   ],
   "source": [
    "BXT.fit(X_train,y_train)"
   ]
  },
  {
   "cell_type": "code",
   "execution_count": 15,
   "id": "9b4e09d1",
   "metadata": {},
   "outputs": [],
   "source": [
    "predictions=BXT.predict(X_test)"
   ]
  },
  {
   "cell_type": "code",
   "execution_count": 16,
   "id": "5eaa0266",
   "metadata": {},
   "outputs": [],
   "source": [
    "from sklearn.metrics import confusion_matrix, classification_report"
   ]
  },
  {
   "cell_type": "code",
   "execution_count": 17,
   "id": "085c72be",
   "metadata": {},
   "outputs": [
    {
     "name": "stdout",
     "output_type": "stream",
     "text": [
      "              precision    recall  f1-score   support\n",
      "\n",
      "           0       0.86      0.90      0.88     49555\n",
      "           1       0.78      0.71      0.75     25445\n",
      "\n",
      "    accuracy                           0.84     75000\n",
      "   macro avg       0.82      0.81      0.81     75000\n",
      "weighted avg       0.83      0.84      0.83     75000\n",
      "\n"
     ]
    }
   ],
   "source": [
    "print(classification_report(y_test,predictions))"
   ]
  },
  {
   "cell_type": "markdown",
   "id": "dfcc2aea",
   "metadata": {},
   "source": [
    "The above result is statistically significant"
   ]
  },
  {
   "cell_type": "markdown",
   "id": "1ce50ed5",
   "metadata": {},
   "source": [
    "## Evaluation Metric: Approximate Median Significance(AMS)"
   ]
  },
  {
   "cell_type": "markdown",
   "id": "3749c7b3",
   "metadata": {},
   "source": [
    "- AMS stands for Approximate Median Significance, which is a metric used to evaluate the performance of classification models in the Higgs ML Challenge\n",
    "- AMS is based on the expected significance of the signal process, which depends on the number of signal and background events passing a certain threshold\n",
    "-  AMS was chosen as the metric because it reflects the goal of finding a region in the feature space that maximizes the chance of discovering the Higgs boson\n",
    "- The equation for AMS is given by,\n",
    "$$\\begin{align}\n",
    "\\text{AMS} = \\sqrt{2\\left((s+b+b_r)\\ln\\left(1+\\frac{s}{b+b_r}\\right)-s\\right)}\n",
    "\\end{align}\n",
    "$$\n",
    "- Here $s$ is the weighted number of true positive signal events, $b$ is the weighted number of false positive background events, and $b_r$ is a regularization term that accounts for the uncertainty in the background estimation. The regularization term is fixed at 10. \n",
    "- Weights are used to adjust the values of s and b according to the expected number of events. Each event in the training and test data has a weight associated with it, which reflects the relative frequency of that event type. "
   ]
  },
  {
   "cell_type": "markdown",
   "id": "86ae87c5",
   "metadata": {},
   "source": [
    "## HyperParameter Tuning and Cross-Validation"
   ]
  },
  {
   "cell_type": "markdown",
   "id": "980259e2",
   "metadata": {},
   "source": [
    "Designing a custom cross validation and hyperparameter tuning fucntion becasue `GridSearchCV` cannot benchmark paramters of the ETs."
   ]
  },
  {
   "cell_type": "code",
   "execution_count": 26,
   "id": "a70015bc",
   "metadata": {},
   "outputs": [],
   "source": [
    "def ams_curve_tuning(X,y,lr,n,rand_state):\n",
    "    \n",
    "        X_train,X_val,y_val,y_val=train_test_split(X,y,test_size=0.3,stratify=y,random_state=rand_state)\n",
    "        X_train=linear_impute_transform(X_train,linear_imputer(X_train))\n",
    "        X_val=linear_impute_transform(X_test,linear_imputer(X_train))  ##Avoids data leakage\n",
    "        im=SimpleImputer(missing_values=-999,strategy='median')\n",
    "        X_train=im.fit_transform(X_train)\n",
    "        X_val=im.transform(X_val)\n",
    "        \n",
    "        \n",
    "        tree=ExtraTreesClassifier(n_estimators=n,max_features=None,n_jobs=1,random_state=rand_state,min_samples_leaf=2)\n",
    "        BXT=AdaBoostClassifier(estimator=tree,n_estimators=50,learning_rate=lr)\n",
    "        BXT.fit(X_train,y_train)\n",
    "\n",
    "        prediction_proba=BXT.predict_proba(X_val)[:,1]\n",
    "        test_weights=weights.iloc[y_test.index]\n",
    "        \n",
    "        A=[]\n",
    "        for t in np.arange(0.05,1,0.01):\n",
    "            predictions=np.where(prediction_proba>t,1,0)\n",
    "            s=np.dot(test_weights/0.3,((y_val==1)&(predictions==1)).astype('int64'))\n",
    "                                                                                        ## Calculcating AMS for a threshold t\n",
    "            b=np.dot(test_weights/0.3,((y_val==0)&(predictions==1)).astype('int64'))\n",
    "\n",
    "            A.append(np.sqrt(2*(((s+b+10)*np.log(1+(s/(b+10))))-s)))\n",
    "        return max(A)"
   ]
  },
  {
   "cell_type": "markdown",
   "id": "f1899fec",
   "metadata": {},
   "source": [
    "The `ams_curve_tuning` function tests hyperparamters against AMS curve as a function of thresholds"
   ]
  },
  {
   "cell_type": "code",
   "execution_count": 5,
   "id": "8db46476",
   "metadata": {},
   "outputs": [],
   "source": [
    "parameters={\n",
    "    'learning_rate':[0.05,0.1,1,1.5,2],\n",
    "    'ET_estimators':[150,200,250,300,350]\n",
    "}"
   ]
  },
  {
   "cell_type": "markdown",
   "id": "eef8b8a3",
   "metadata": {},
   "source": [
    "The search is also **parallelised** to improve performance"
   ]
  },
  {
   "cell_type": "code",
   "execution_count": 27,
   "id": "de78e2f4",
   "metadata": {
    "scrolled": false
   },
   "outputs": [
    {
     "name": "stdout",
     "output_type": "stream",
     "text": [
      "Mean ams = 3.430048179580882, lr = 0.05, n = 150\n",
      "Mean ams = 3.4268175276856137, lr = 0.05, n = 200\n",
      "Mean ams = 3.4288371524675614, lr = 0.05, n = 250\n",
      "Mean ams = 3.431465328109843, lr = 0.05, n = 300\n",
      "Mean ams = 3.4375704905866757, lr = 0.05, n = 350\n",
      "Mean ams = 3.412345181032586, lr = 0.1, n = 150\n",
      "Mean ams = 3.4224941258046684, lr = 0.1, n = 200\n",
      "Mean ams = 3.443619080688054, lr = 0.1, n = 250\n",
      "Mean ams = 3.424061702258539, lr = 0.1, n = 300\n",
      "Mean ams = 3.43964584043575, lr = 0.1, n = 350\n",
      "Mean ams = 3.436704520172342, lr = 1, n = 150\n",
      "Mean ams = 3.4593962429179594, lr = 1, n = 200\n",
      "Mean ams = 3.4720190628402423, lr = 1, n = 250\n",
      "Mean ams = 3.4722441550818135, lr = 1, n = 300\n",
      "Mean ams = 3.4721250475665024, lr = 1, n = 350\n",
      "Mean ams = 3.47378711951285, lr = 1.5, n = 150\n",
      "Mean ams = 3.4911527224181027, lr = 1.5, n = 200\n",
      "Mean ams = 3.50650489424366, lr = 1.5, n = 250\n",
      "Mean ams = 3.500215130240974, lr = 1.5, n = 300\n",
      "Mean ams = 3.485973096831537, lr = 1.5, n = 350\n",
      "Mean ams = 3.4676705843486095, lr = 2, n = 150\n",
      "Mean ams = 3.4678579977314166, lr = 2, n = 200\n",
      "Mean ams = 3.4773996097603406, lr = 2, n = 250\n",
      "Mean ams = 3.4675681824824647, lr = 2, n = 300\n",
      "Mean ams = 3.473199333076023, lr = 2, n = 350\n",
      "BEST SCORES: ams = 3.50650489424366, lr = 1.5, n = 250\n"
     ]
    }
   ],
   "source": [
    "random_states=np.random.randint(10,100,8)\n",
    "AMS_vals=[];N=[];LR=[]\n",
    "for lr in parameters['learning_rate']:\n",
    "    for n in parameters['ET_estimators']:\n",
    "\n",
    "        trial_vals=Parallel(n_jobs=4)(delayed(ams_curve_tuning)(X,y,lr,n,random_states[i]) for i in range(4))\n",
    "        AMS_vals.append(np.mean(trial_vals));N.append(n);LR.append(lr) \n",
    "        \n",
    "        print('Mean ams = {}, lr = {}, n = {}'.format(np.mean(trial_vals),lr,n))\n",
    "        \n",
    "LR=np.array(LR);AMS_vals=np.array(AMS_vals);N=np.array(N)        \n",
    "print('BEST SCORES: ams = {}, lr = {}, n = {}'.format(max(AMS_vals),\n",
    "                                                      LR[AMS_vals==max(AMS_vals)][0],N[AMS_vals==max(AMS_vals)][0]))"
   ]
  },
  {
   "cell_type": "markdown",
   "id": "a3099fca",
   "metadata": {},
   "source": [
    "## Fitting and Prediction"
   ]
  },
  {
   "cell_type": "code",
   "execution_count": 14,
   "id": "02f81c2e",
   "metadata": {},
   "outputs": [],
   "source": [
    "trees=ExtraTreesClassifier(n_estimators=250,max_features=None,min_samples_leaf=2,n_jobs=-1)\n",
    "BXT=AdaBoostClassifier(estimator=trees,n_estimators=50,learning_rate=1.5)"
   ]
  },
  {
   "cell_type": "code",
   "execution_count": 12,
   "id": "2244fec7",
   "metadata": {},
   "outputs": [],
   "source": [
    "X_test,weights,y_test=prepare_dataset(pd.read_csv('Data/testing.csv',index_col=0))\n",
    "\n",
    "X_train,_,y_train=prepare_dataset(pd.read_csv('Data/training.csv'))\n",
    "\n",
    "X_test=prepare_training_features(X_test,X_dep=X_train)"
   ]
  },
  {
   "cell_type": "code",
   "execution_count": 15,
   "id": "9b5f815f",
   "metadata": {},
   "outputs": [
    {
     "data": {
      "text/html": [
       "<style>#sk-container-id-1 {color: black;background-color: white;}#sk-container-id-1 pre{padding: 0;}#sk-container-id-1 div.sk-toggleable {background-color: white;}#sk-container-id-1 label.sk-toggleable__label {cursor: pointer;display: block;width: 100%;margin-bottom: 0;padding: 0.3em;box-sizing: border-box;text-align: center;}#sk-container-id-1 label.sk-toggleable__label-arrow:before {content: \"▸\";float: left;margin-right: 0.25em;color: #696969;}#sk-container-id-1 label.sk-toggleable__label-arrow:hover:before {color: black;}#sk-container-id-1 div.sk-estimator:hover label.sk-toggleable__label-arrow:before {color: black;}#sk-container-id-1 div.sk-toggleable__content {max-height: 0;max-width: 0;overflow: hidden;text-align: left;background-color: #f0f8ff;}#sk-container-id-1 div.sk-toggleable__content pre {margin: 0.2em;color: black;border-radius: 0.25em;background-color: #f0f8ff;}#sk-container-id-1 input.sk-toggleable__control:checked~div.sk-toggleable__content {max-height: 200px;max-width: 100%;overflow: auto;}#sk-container-id-1 input.sk-toggleable__control:checked~label.sk-toggleable__label-arrow:before {content: \"▾\";}#sk-container-id-1 div.sk-estimator input.sk-toggleable__control:checked~label.sk-toggleable__label {background-color: #d4ebff;}#sk-container-id-1 div.sk-label input.sk-toggleable__control:checked~label.sk-toggleable__label {background-color: #d4ebff;}#sk-container-id-1 input.sk-hidden--visually {border: 0;clip: rect(1px 1px 1px 1px);clip: rect(1px, 1px, 1px, 1px);height: 1px;margin: -1px;overflow: hidden;padding: 0;position: absolute;width: 1px;}#sk-container-id-1 div.sk-estimator {font-family: monospace;background-color: #f0f8ff;border: 1px dotted black;border-radius: 0.25em;box-sizing: border-box;margin-bottom: 0.5em;}#sk-container-id-1 div.sk-estimator:hover {background-color: #d4ebff;}#sk-container-id-1 div.sk-parallel-item::after {content: \"\";width: 100%;border-bottom: 1px solid gray;flex-grow: 1;}#sk-container-id-1 div.sk-label:hover label.sk-toggleable__label {background-color: #d4ebff;}#sk-container-id-1 div.sk-serial::before {content: \"\";position: absolute;border-left: 1px solid gray;box-sizing: border-box;top: 0;bottom: 0;left: 50%;z-index: 0;}#sk-container-id-1 div.sk-serial {display: flex;flex-direction: column;align-items: center;background-color: white;padding-right: 0.2em;padding-left: 0.2em;position: relative;}#sk-container-id-1 div.sk-item {position: relative;z-index: 1;}#sk-container-id-1 div.sk-parallel {display: flex;align-items: stretch;justify-content: center;background-color: white;position: relative;}#sk-container-id-1 div.sk-item::before, #sk-container-id-1 div.sk-parallel-item::before {content: \"\";position: absolute;border-left: 1px solid gray;box-sizing: border-box;top: 0;bottom: 0;left: 50%;z-index: -1;}#sk-container-id-1 div.sk-parallel-item {display: flex;flex-direction: column;z-index: 1;position: relative;background-color: white;}#sk-container-id-1 div.sk-parallel-item:first-child::after {align-self: flex-end;width: 50%;}#sk-container-id-1 div.sk-parallel-item:last-child::after {align-self: flex-start;width: 50%;}#sk-container-id-1 div.sk-parallel-item:only-child::after {width: 0;}#sk-container-id-1 div.sk-dashed-wrapped {border: 1px dashed gray;margin: 0 0.4em 0.5em 0.4em;box-sizing: border-box;padding-bottom: 0.4em;background-color: white;}#sk-container-id-1 div.sk-label label {font-family: monospace;font-weight: bold;display: inline-block;line-height: 1.2em;}#sk-container-id-1 div.sk-label-container {text-align: center;}#sk-container-id-1 div.sk-container {/* jupyter's `normalize.less` sets `[hidden] { display: none; }` but bootstrap.min.css set `[hidden] { display: none !important; }` so we also need the `!important` here to be able to override the default hidden behavior on the sphinx rendered scikit-learn.org. See: https://github.com/scikit-learn/scikit-learn/issues/21755 */display: inline-block !important;position: relative;}#sk-container-id-1 div.sk-text-repr-fallback {display: none;}</style><div id=\"sk-container-id-1\" class=\"sk-top-container\"><div class=\"sk-text-repr-fallback\"><pre>AdaBoostClassifier(estimator=ExtraTreesClassifier(max_features=None,\n",
       "                                                  min_samples_leaf=2,\n",
       "                                                  n_estimators=250, n_jobs=-1),\n",
       "                   learning_rate=1.5)</pre><b>In a Jupyter environment, please rerun this cell to show the HTML representation or trust the notebook. <br />On GitHub, the HTML representation is unable to render, please try loading this page with nbviewer.org.</b></div><div class=\"sk-container\" hidden><div class=\"sk-item sk-dashed-wrapped\"><div class=\"sk-label-container\"><div class=\"sk-label sk-toggleable\"><input class=\"sk-toggleable__control sk-hidden--visually\" id=\"sk-estimator-id-1\" type=\"checkbox\" ><label for=\"sk-estimator-id-1\" class=\"sk-toggleable__label sk-toggleable__label-arrow\">AdaBoostClassifier</label><div class=\"sk-toggleable__content\"><pre>AdaBoostClassifier(estimator=ExtraTreesClassifier(max_features=None,\n",
       "                                                  min_samples_leaf=2,\n",
       "                                                  n_estimators=250, n_jobs=-1),\n",
       "                   learning_rate=1.5)</pre></div></div></div><div class=\"sk-parallel\"><div class=\"sk-parallel-item\"><div class=\"sk-item\"><div class=\"sk-label-container\"><div class=\"sk-label sk-toggleable\"><input class=\"sk-toggleable__control sk-hidden--visually\" id=\"sk-estimator-id-2\" type=\"checkbox\" ><label for=\"sk-estimator-id-2\" class=\"sk-toggleable__label sk-toggleable__label-arrow\">estimator: ExtraTreesClassifier</label><div class=\"sk-toggleable__content\"><pre>ExtraTreesClassifier(max_features=None, min_samples_leaf=2, n_estimators=250,\n",
       "                     n_jobs=-1)</pre></div></div></div><div class=\"sk-serial\"><div class=\"sk-item\"><div class=\"sk-estimator sk-toggleable\"><input class=\"sk-toggleable__control sk-hidden--visually\" id=\"sk-estimator-id-3\" type=\"checkbox\" ><label for=\"sk-estimator-id-3\" class=\"sk-toggleable__label sk-toggleable__label-arrow\">ExtraTreesClassifier</label><div class=\"sk-toggleable__content\"><pre>ExtraTreesClassifier(max_features=None, min_samples_leaf=2, n_estimators=250,\n",
       "                     n_jobs=-1)</pre></div></div></div></div></div></div></div></div></div></div>"
      ],
      "text/plain": [
       "AdaBoostClassifier(estimator=ExtraTreesClassifier(max_features=None,\n",
       "                                                  min_samples_leaf=2,\n",
       "                                                  n_estimators=250, n_jobs=-1),\n",
       "                   learning_rate=1.5)"
      ]
     },
     "execution_count": 15,
     "metadata": {},
     "output_type": "execute_result"
    }
   ],
   "source": [
    "BXT.fit(X_train,y_train)"
   ]
  },
  {
   "cell_type": "code",
   "execution_count": 71,
   "id": "e139dbe3",
   "metadata": {},
   "outputs": [],
   "source": [
    "def ams_curve(prediction_proba,y_test,test_weights,test_ratio):\n",
    "    A=[]\n",
    "    for t in np.arange(0.05,1,0.01):\n",
    "        predictions=np.where(prediction_proba>t,1,0)\n",
    "        s=np.dot(test_weights,((y_test==1)&(predictions==1)).astype('int64'))\n",
    "                                                                                \n",
    "        b=np.dot(test_weights,((y_test==0)&(predictions==1)).astype('int64'))\n",
    "\n",
    "        A.append(np.sqrt(2*(((s+b+10)*np.log(1+(s/(b+10))))-s)))\n",
    "    A=np.array(A)\n",
    "    Dat=np.stack((np.arange(0.05,1,0.01),A),axis=1)\n",
    "    plt.plot(Dat[:,0],Dat[:,1])\n",
    "    plt.title('AMS vs Decision Threshold')\n",
    "    plt.xlabel('Threshold')\n",
    "    plt.ylabel('AMS')\n",
    "    return Dat,max(A)"
   ]
  },
  {
   "cell_type": "code",
   "execution_count": 31,
   "id": "ba32e76e",
   "metadata": {},
   "outputs": [],
   "source": [
    "prediction_proba=BXT.predict_proba(X_test)[:,1]"
   ]
  },
  {
   "cell_type": "code",
   "execution_count": 72,
   "id": "8b8d2cbf",
   "metadata": {},
   "outputs": [
    {
     "data": {
      "image/png": "[encoded data removed]",
      "text/plain": [
       "<Figure size 640x480 with 1 Axes>"
      ]
     },
     "metadata": {},
     "output_type": "display_data"
    }
   ],
   "source": [
    "ams_dat,max_ams=ams_curve(prediction_proba,y_test,weights,test_ratio=1)"
   ]
  },
  {
   "cell_type": "code",
   "execution_count": 74,
   "id": "5c438da0",
   "metadata": {},
   "outputs": [],
   "source": [
    "np.savetxt('Data/BXT_curve.csv',ams_dat)"
   ]
  },
  {
   "cell_type": "code",
   "execution_count": 73,
   "id": "ce30ec80",
   "metadata": {},
   "outputs": [
    {
     "name": "stdout",
     "output_type": "stream",
     "text": [
      "Final AMS = 3.4860301191263914\n"
     ]
    }
   ],
   "source": [
    "print('Final AMS = {}'.format(max_ams))"
   ]
  }
 ],
 "metadata": {
  "kernelspec": {
   "display_name": "Python 3 (ipykernel)",
   "language": "python",
   "name": "python3"
  },
  "language_info": {
   "codemirror_mode": {
    "name": "ipython",
    "version": 3
   },
   "file_extension": ".py",
   "mimetype": "text/x-python",
   "name": "python",
   "nbconvert_exporter": "python",
   "pygments_lexer": "ipython3",
   "version": "3.10.10"
  }
 },
 "nbformat": 4,
 "nbformat_minor": 5
}
