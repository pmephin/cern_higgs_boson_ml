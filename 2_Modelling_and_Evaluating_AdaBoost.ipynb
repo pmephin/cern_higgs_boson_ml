{
 "cells": [
  {
   "cell_type": "code",
   "execution_count": 1,
   "id": "4e3e9a4c",
   "metadata": {},
   "outputs": [],
   "source": [
    "import numpy as np\n",
    "import pandas as pd\n",
    "from joblib import Parallel,delayed,dump\n",
    "from sklearn.ensemble import AdaBoostClassifier\n",
    "from sklearn.model_selection import train_test_split\n",
    "from sklearn.impute import SimpleImputer"
   ]
  },
  {
   "cell_type": "code",
   "execution_count": 2,
   "id": "af7cd3c8",
   "metadata": {},
   "outputs": [],
   "source": [
    "from cust_funcs import prepare_dataset,ams_curve_tuning,linear_impute_transform,linear_imputer,ams_curve,prepare_training_features"
   ]
  },
  {
   "cell_type": "code",
   "execution_count": 3,
   "id": "adb38c43",
   "metadata": {},
   "outputs": [],
   "source": [
    "df=pd.read_csv('Data/training.csv')\n",
    "X,weights,y=prepare_dataset(df)"
   ]
  },
  {
   "cell_type": "code",
   "execution_count": 4,
   "id": "789e8cfa",
   "metadata": {},
   "outputs": [],
   "source": [
    "parameters={\n",
    "    'learning_rate':[0.01,0.05,0.1,1,1.2],\n",
    "    'n_estimators':[50,100,150,200]\n",
    "}"
   ]
  },
  {
   "cell_type": "code",
   "execution_count": 11,
   "id": "746b455f",
   "metadata": {},
   "outputs": [
    {
     "name": "stdout",
     "output_type": "stream",
     "text": [
      "Mean ams = 2.0391210125094763, lr = 0.01, n = 50\n",
      "Mean ams = 2.037570166907507, lr = 0.01, n = 100\n",
      "Mean ams = 2.6348026068674586, lr = 0.01, n = 150\n",
      "Mean ams = 2.670455126448005, lr = 0.01, n = 200\n",
      "Mean ams = 2.7007001969083553, lr = 0.05, n = 50\n",
      "Mean ams = 2.822087110308913, lr = 0.05, n = 100\n",
      "Mean ams = 2.8714812991701795, lr = 0.05, n = 150\n",
      "Mean ams = 2.8843340284920487, lr = 0.05, n = 200\n",
      "Mean ams = 2.8189427835569907, lr = 0.1, n = 50\n",
      "Mean ams = 2.888825043471292, lr = 0.1, n = 100\n",
      "Mean ams = 2.8835949926171827, lr = 0.1, n = 150\n",
      "Mean ams = 2.9347700096259812, lr = 0.1, n = 200\n",
      "Mean ams = 2.4854615112535674, lr = 1, n = 50\n",
      "Mean ams = 2.5059857503925276, lr = 1, n = 100\n",
      "Mean ams = 2.5272338280015623, lr = 1, n = 150\n",
      "Mean ams = 2.5432565970706893, lr = 1, n = 200\n",
      "Mean ams = 2.446782436974116, lr = 1.2, n = 50\n",
      "Mean ams = 2.4979825256615786, lr = 1.2, n = 100\n",
      "Mean ams = 2.524806181815711, lr = 1.2, n = 150\n",
      "Mean ams = 2.5410602454730977, lr = 1.2, n = 200\n",
      "BEST SCORES: ams = 2.9347700096259812, lr = 0.1, n = 200\n"
     ]
    }
   ],
   "source": [
    "random_states=np.random.randint(10,100,8)\n",
    "AMS_vals=[];N=[];LR=[]\n",
    "for lr in parameters['learning_rate']:\n",
    "    for n in parameters['n_estimators']:\n",
    "        ADB=AdaBoostClassifier(n_estimators=n,learning_rate=lr)\n",
    "        trial_vals=Parallel(n_jobs=4)(delayed(ams_curve_tuning)(X,y,weights,lr,n,random_states[i],ADB) for i in range(8))\n",
    "        AMS_vals.append(np.mean(trial_vals));N.append(n);LR.append(lr) \n",
    "        \n",
    "        print('Mean ams = {}, lr = {}, n = {}'.format(np.mean(trial_vals),lr,n))\n",
    "        \n",
    "LR=np.array(LR);AMS_vals=np.array(AMS_vals);N=np.array(N)        \n",
    "print('BEST SCORES: ams = {}, lr = {}, n = {}'.format(max(AMS_vals),\n",
    "                                                      LR[AMS_vals==max(AMS_vals)][0],N[AMS_vals==max(AMS_vals)][0]))"
   ]
  },
  {
   "cell_type": "markdown",
   "id": "e6feeb8b",
   "metadata": {},
   "source": [
    "### Fitting and Prediction"
   ]
  },
  {
   "cell_type": "code",
   "execution_count": 3,
   "id": "9d7fffc0",
   "metadata": {
    "scrolled": true
   },
   "outputs": [],
   "source": [
    "X_test,weights,y_test=prepare_dataset(pd.read_csv('Data/testing.csv',index_col=0))\n",
    "\n",
    "X_train,_,y_train=prepare_dataset(pd.read_csv('Data/training.csv'))\n",
    "\n",
    "X_test=prepare_training_features(X_test,X_dep=X_train)"
   ]
  },
  {
   "cell_type": "code",
   "execution_count": 7,
   "id": "3ffb7bc3",
   "metadata": {
    "scrolled": false
   },
   "outputs": [
    {
     "data": {
      "text/html": [
       "<style>#sk-container-id-2 {color: black;background-color: white;}#sk-container-id-2 pre{padding: 0;}#sk-container-id-2 div.sk-toggleable {background-color: white;}#sk-container-id-2 label.sk-toggleable__label {cursor: pointer;display: block;width: 100%;margin-bottom: 0;padding: 0.3em;box-sizing: border-box;text-align: center;}#sk-container-id-2 label.sk-toggleable__label-arrow:before {content: \"▸\";float: left;margin-right: 0.25em;color: #696969;}#sk-container-id-2 label.sk-toggleable__label-arrow:hover:before {color: black;}#sk-container-id-2 div.sk-estimator:hover label.sk-toggleable__label-arrow:before {color: black;}#sk-container-id-2 div.sk-toggleable__content {max-height: 0;max-width: 0;overflow: hidden;text-align: left;background-color: #f0f8ff;}#sk-container-id-2 div.sk-toggleable__content pre {margin: 0.2em;color: black;border-radius: 0.25em;background-color: #f0f8ff;}#sk-container-id-2 input.sk-toggleable__control:checked~div.sk-toggleable__content {max-height: 200px;max-width: 100%;overflow: auto;}#sk-container-id-2 input.sk-toggleable__control:checked~label.sk-toggleable__label-arrow:before {content: \"▾\";}#sk-container-id-2 div.sk-estimator input.sk-toggleable__control:checked~label.sk-toggleable__label {background-color: #d4ebff;}#sk-container-id-2 div.sk-label input.sk-toggleable__control:checked~label.sk-toggleable__label {background-color: #d4ebff;}#sk-container-id-2 input.sk-hidden--visually {border: 0;clip: rect(1px 1px 1px 1px);clip: rect(1px, 1px, 1px, 1px);height: 1px;margin: -1px;overflow: hidden;padding: 0;position: absolute;width: 1px;}#sk-container-id-2 div.sk-estimator {font-family: monospace;background-color: #f0f8ff;border: 1px dotted black;border-radius: 0.25em;box-sizing: border-box;margin-bottom: 0.5em;}#sk-container-id-2 div.sk-estimator:hover {background-color: #d4ebff;}#sk-container-id-2 div.sk-parallel-item::after {content: \"\";width: 100%;border-bottom: 1px solid gray;flex-grow: 1;}#sk-container-id-2 div.sk-label:hover label.sk-toggleable__label {background-color: #d4ebff;}#sk-container-id-2 div.sk-serial::before {content: \"\";position: absolute;border-left: 1px solid gray;box-sizing: border-box;top: 0;bottom: 0;left: 50%;z-index: 0;}#sk-container-id-2 div.sk-serial {display: flex;flex-direction: column;align-items: center;background-color: white;padding-right: 0.2em;padding-left: 0.2em;position: relative;}#sk-container-id-2 div.sk-item {position: relative;z-index: 1;}#sk-container-id-2 div.sk-parallel {display: flex;align-items: stretch;justify-content: center;background-color: white;position: relative;}#sk-container-id-2 div.sk-item::before, #sk-container-id-2 div.sk-parallel-item::before {content: \"\";position: absolute;border-left: 1px solid gray;box-sizing: border-box;top: 0;bottom: 0;left: 50%;z-index: -1;}#sk-container-id-2 div.sk-parallel-item {display: flex;flex-direction: column;z-index: 1;position: relative;background-color: white;}#sk-container-id-2 div.sk-parallel-item:first-child::after {align-self: flex-end;width: 50%;}#sk-container-id-2 div.sk-parallel-item:last-child::after {align-self: flex-start;width: 50%;}#sk-container-id-2 div.sk-parallel-item:only-child::after {width: 0;}#sk-container-id-2 div.sk-dashed-wrapped {border: 1px dashed gray;margin: 0 0.4em 0.5em 0.4em;box-sizing: border-box;padding-bottom: 0.4em;background-color: white;}#sk-container-id-2 div.sk-label label {font-family: monospace;font-weight: bold;display: inline-block;line-height: 1.2em;}#sk-container-id-2 div.sk-label-container {text-align: center;}#sk-container-id-2 div.sk-container {/* jupyter's `normalize.less` sets `[hidden] { display: none; }` but bootstrap.min.css set `[hidden] { display: none !important; }` so we also need the `!important` here to be able to override the default hidden behavior on the sphinx rendered scikit-learn.org. See: https://github.com/scikit-learn/scikit-learn/issues/21755 */display: inline-block !important;position: relative;}#sk-container-id-2 div.sk-text-repr-fallback {display: none;}</style><div id=\"sk-container-id-2\" class=\"sk-top-container\"><div class=\"sk-text-repr-fallback\"><pre>AdaBoostClassifier(learning_rate=0.1, n_estimators=200)</pre><b>In a Jupyter environment, please rerun this cell to show the HTML representation or trust the notebook. <br />On GitHub, the HTML representation is unable to render, please try loading this page with nbviewer.org.</b></div><div class=\"sk-container\" hidden><div class=\"sk-item\"><div class=\"sk-estimator sk-toggleable\"><input class=\"sk-toggleable__control sk-hidden--visually\" id=\"sk-estimator-id-2\" type=\"checkbox\" checked><label for=\"sk-estimator-id-2\" class=\"sk-toggleable__label sk-toggleable__label-arrow\">AdaBoostClassifier</label><div class=\"sk-toggleable__content\"><pre>AdaBoostClassifier(learning_rate=0.1, n_estimators=200)</pre></div></div></div></div></div>"
      ],
      "text/plain": [
       "AdaBoostClassifier(learning_rate=0.1, n_estimators=200)"
      ]
     },
     "execution_count": 7,
     "metadata": {},
     "output_type": "execute_result"
    }
   ],
   "source": [
    "ADA=AdaBoostClassifier(n_estimators=200,learning_rate=0.1)\n",
    "ADA.fit(X_train,y_train)"
   ]
  },
  {
   "cell_type": "code",
   "execution_count": 8,
   "id": "bd427f4f",
   "metadata": {},
   "outputs": [],
   "source": [
    "prediction_proba=ADA.predict_proba(X_test)[:,1]"
   ]
  },
  {
   "cell_type": "code",
   "execution_count": 9,
   "id": "32c61fbb",
   "metadata": {},
   "outputs": [
    {
     "data": {
      "image/png": "[encoded data removed]",
      "text/plain": [
       "<Figure size 640x480 with 1 Axes>"
      ]
     },
     "metadata": {},
     "output_type": "display_data"
    }
   ],
   "source": [
    "ams_dat,max_ams=ams_curve(prediction_proba,y_test,weights,test_ratio=1)"
   ]
  },
  {
   "cell_type": "code",
   "execution_count": 27,
   "id": "923d16a3",
   "metadata": {},
   "outputs": [],
   "source": [
    "np.savetxt('Data/ADA_curve.csv',ams_dat)"
   ]
  },
  {
   "cell_type": "code",
   "execution_count": 28,
   "id": "70b4d118",
   "metadata": {},
   "outputs": [
    {
     "name": "stdout",
     "output_type": "stream",
     "text": [
      "Final AMS = 2.9662737575747773\n"
     ]
    }
   ],
   "source": [
    "print('Final AMS = {}'.format(max_ams))"
   ]
  }
 ],
 "metadata": {
  "kernelspec": {
   "display_name": "Python 3 (ipykernel)",
   "language": "python",
   "name": "python3"
  },
  "language_info": {
   "codemirror_mode": {
    "name": "ipython",
    "version": 3
   },
   "file_extension": ".py",
   "mimetype": "text/x-python",
   "name": "python",
   "nbconvert_exporter": "python",
   "pygments_lexer": "ipython3",
   "version": "3.9.16"
  }
 },
 "nbformat": 4,
 "nbformat_minor": 5
}
