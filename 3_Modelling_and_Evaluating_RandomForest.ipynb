{
 "cells": [
  {
   "cell_type": "code",
   "execution_count": 1,
   "id": "48b31c55",
   "metadata": {},
   "outputs": [],
   "source": [
    "import numpy as np\n",
    "import pandas as pd\n",
    "from joblib import Parallel,delayed,dump\n",
    "from sklearn.ensemble import RandomForestClassifier\n",
    "from sklearn.model_selection import train_test_split\n",
    "from sklearn.impute import SimpleImputer"
   ]
  },
  {
   "cell_type": "code",
   "execution_count": 2,
   "id": "68e0bf2b",
   "metadata": {},
   "outputs": [],
   "source": [
    "from cust_funcs import *"
   ]
  },
  {
   "cell_type": "code",
   "execution_count": 3,
   "id": "00bd045b",
   "metadata": {},
   "outputs": [],
   "source": [
    "df=pd.read_csv('Data/training.csv')\n",
    "X,weights,y=prepare_dataset(df)"
   ]
  },
  {
   "cell_type": "code",
   "execution_count": 4,
   "id": "a35bed65",
   "metadata": {},
   "outputs": [],
   "source": [
    "parameters={\n",
    "    'min_samples_leaf':[1,2,5,10],\n",
    "    'n_estimators':[100,150,200,250]\n",
    "}"
   ]
  },
  {
   "cell_type": "code",
   "execution_count": 5,
   "id": "60fea149",
   "metadata": {},
   "outputs": [
    {
     "name": "stdout",
     "output_type": "stream",
     "text": [
      "Mean ams = 3.360861202014717, slf = 1, n = 100\n",
      "Mean ams = 3.364382303000128, slf = 1, n = 150\n",
      "Mean ams = 3.3901989732495252, slf = 1, n = 200\n",
      "Mean ams = 3.3866780136272645, slf = 1, n = 250\n",
      "Mean ams = 3.3789260610477196, slf = 2, n = 100\n",
      "Mean ams = 3.4049642789157417, slf = 2, n = 150\n",
      "Mean ams = 3.401500564070928, slf = 2, n = 200\n",
      "Mean ams = 3.418786421437465, slf = 2, n = 250\n",
      "Mean ams = 3.4205201532534804, slf = 5, n = 100\n",
      "Mean ams = 3.4362833897339686, slf = 5, n = 150\n",
      "Mean ams = 3.44731927273579, slf = 5, n = 200\n",
      "Mean ams = 3.4562364620559225, slf = 5, n = 250\n",
      "Mean ams = 3.445780472444389, slf = 10, n = 100\n",
      "Mean ams = 3.44561602165918, slf = 10, n = 150\n",
      "Mean ams = 3.443898796804069, slf = 10, n = 200\n",
      "Mean ams = 3.446434018889242, slf = 10, n = 250\n",
      "BEST SCORES: ams = 3.4562364620559225, slf = 5, n = 250\n"
     ]
    }
   ],
   "source": [
    "random_states=np.random.randint(10,100,8)\n",
    "AMS_vals=[];N=[];LR=[]\n",
    "for slf in parameters['min_samples_leaf']:\n",
    "    for n in parameters['n_estimators']:\n",
    "        RF=RandomForestClassifier(n_estimators=n,min_samples_leaf=slf,n_jobs=2)\n",
    "        trial_vals=Parallel(n_jobs=4)(delayed(ams_curve_tuning)(X,y,weights,slf,n,random_states[i],RF) for i in range(8))\n",
    "        AMS_vals.append(np.mean(trial_vals));N.append(n);LR.append(slf) \n",
    "        \n",
    "        print('Mean ams = {}, slf = {}, n = {}'.format(np.mean(trial_vals),slf,n))\n",
    "        \n",
    "LR=np.array(LR);AMS_vals=np.array(AMS_vals);N=np.array(N)        \n",
    "print('BEST SCORES: ams = {}, slf = {}, n = {}'.format(max(AMS_vals),\n",
    "                                                      LR[AMS_vals==max(AMS_vals)][0],N[AMS_vals==max(AMS_vals)][0]))"
   ]
  },
  {
   "cell_type": "markdown",
   "id": "f655bed1",
   "metadata": {},
   "source": [
    "### Fitting and Prediction"
   ]
  },
  {
   "cell_type": "code",
   "execution_count": 3,
   "id": "b4a3a853",
   "metadata": {},
   "outputs": [],
   "source": [
    "X_test,weights,y_test=prepare_dataset(pd.read_csv('Data/testing.csv',index_col=0))\n",
    "\n",
    "X_train,_,y_train=prepare_dataset(pd.read_csv('Data/training.csv'))\n",
    "\n",
    "X_test=prepare_training_features(X_test,X_dep=X_train)"
   ]
  },
  {
   "cell_type": "code",
   "execution_count": 5,
   "id": "8ecb5e27",
   "metadata": {},
   "outputs": [
    {
     "data": {
      "text/html": [
       "<style>#sk-container-id-1 {color: black;background-color: white;}#sk-container-id-1 pre{padding: 0;}#sk-container-id-1 div.sk-toggleable {background-color: white;}#sk-container-id-1 label.sk-toggleable__label {cursor: pointer;display: block;width: 100%;margin-bottom: 0;padding: 0.3em;box-sizing: border-box;text-align: center;}#sk-container-id-1 label.sk-toggleable__label-arrow:before {content: \"▸\";float: left;margin-right: 0.25em;color: #696969;}#sk-container-id-1 label.sk-toggleable__label-arrow:hover:before {color: black;}#sk-container-id-1 div.sk-estimator:hover label.sk-toggleable__label-arrow:before {color: black;}#sk-container-id-1 div.sk-toggleable__content {max-height: 0;max-width: 0;overflow: hidden;text-align: left;background-color: #f0f8ff;}#sk-container-id-1 div.sk-toggleable__content pre {margin: 0.2em;color: black;border-radius: 0.25em;background-color: #f0f8ff;}#sk-container-id-1 input.sk-toggleable__control:checked~div.sk-toggleable__content {max-height: 200px;max-width: 100%;overflow: auto;}#sk-container-id-1 input.sk-toggleable__control:checked~label.sk-toggleable__label-arrow:before {content: \"▾\";}#sk-container-id-1 div.sk-estimator input.sk-toggleable__control:checked~label.sk-toggleable__label {background-color: #d4ebff;}#sk-container-id-1 div.sk-label input.sk-toggleable__control:checked~label.sk-toggleable__label {background-color: #d4ebff;}#sk-container-id-1 input.sk-hidden--visually {border: 0;clip: rect(1px 1px 1px 1px);clip: rect(1px, 1px, 1px, 1px);height: 1px;margin: -1px;overflow: hidden;padding: 0;position: absolute;width: 1px;}#sk-container-id-1 div.sk-estimator {font-family: monospace;background-color: #f0f8ff;border: 1px dotted black;border-radius: 0.25em;box-sizing: border-box;margin-bottom: 0.5em;}#sk-container-id-1 div.sk-estimator:hover {background-color: #d4ebff;}#sk-container-id-1 div.sk-parallel-item::after {content: \"\";width: 100%;border-bottom: 1px solid gray;flex-grow: 1;}#sk-container-id-1 div.sk-label:hover label.sk-toggleable__label {background-color: #d4ebff;}#sk-container-id-1 div.sk-serial::before {content: \"\";position: absolute;border-left: 1px solid gray;box-sizing: border-box;top: 0;bottom: 0;left: 50%;z-index: 0;}#sk-container-id-1 div.sk-serial {display: flex;flex-direction: column;align-items: center;background-color: white;padding-right: 0.2em;padding-left: 0.2em;position: relative;}#sk-container-id-1 div.sk-item {position: relative;z-index: 1;}#sk-container-id-1 div.sk-parallel {display: flex;align-items: stretch;justify-content: center;background-color: white;position: relative;}#sk-container-id-1 div.sk-item::before, #sk-container-id-1 div.sk-parallel-item::before {content: \"\";position: absolute;border-left: 1px solid gray;box-sizing: border-box;top: 0;bottom: 0;left: 50%;z-index: -1;}#sk-container-id-1 div.sk-parallel-item {display: flex;flex-direction: column;z-index: 1;position: relative;background-color: white;}#sk-container-id-1 div.sk-parallel-item:first-child::after {align-self: flex-end;width: 50%;}#sk-container-id-1 div.sk-parallel-item:last-child::after {align-self: flex-start;width: 50%;}#sk-container-id-1 div.sk-parallel-item:only-child::after {width: 0;}#sk-container-id-1 div.sk-dashed-wrapped {border: 1px dashed gray;margin: 0 0.4em 0.5em 0.4em;box-sizing: border-box;padding-bottom: 0.4em;background-color: white;}#sk-container-id-1 div.sk-label label {font-family: monospace;font-weight: bold;display: inline-block;line-height: 1.2em;}#sk-container-id-1 div.sk-label-container {text-align: center;}#sk-container-id-1 div.sk-container {/* jupyter's `normalize.less` sets `[hidden] { display: none; }` but bootstrap.min.css set `[hidden] { display: none !important; }` so we also need the `!important` here to be able to override the default hidden behavior on the sphinx rendered scikit-learn.org. See: https://github.com/scikit-learn/scikit-learn/issues/21755 */display: inline-block !important;position: relative;}#sk-container-id-1 div.sk-text-repr-fallback {display: none;}</style><div id=\"sk-container-id-1\" class=\"sk-top-container\"><div class=\"sk-text-repr-fallback\"><pre>RandomForestClassifier(min_samples_leaf=5, n_estimators=250, n_jobs=-1)</pre><b>In a Jupyter environment, please rerun this cell to show the HTML representation or trust the notebook. <br />On GitHub, the HTML representation is unable to render, please try loading this page with nbviewer.org.</b></div><div class=\"sk-container\" hidden><div class=\"sk-item\"><div class=\"sk-estimator sk-toggleable\"><input class=\"sk-toggleable__control sk-hidden--visually\" id=\"sk-estimator-id-1\" type=\"checkbox\" checked><label for=\"sk-estimator-id-1\" class=\"sk-toggleable__label sk-toggleable__label-arrow\">RandomForestClassifier</label><div class=\"sk-toggleable__content\"><pre>RandomForestClassifier(min_samples_leaf=5, n_estimators=250, n_jobs=-1)</pre></div></div></div></div></div>"
      ],
      "text/plain": [
       "RandomForestClassifier(min_samples_leaf=5, n_estimators=250, n_jobs=-1)"
      ]
     },
     "execution_count": 5,
     "metadata": {},
     "output_type": "execute_result"
    }
   ],
   "source": [
    "RF=RandomForestClassifier(n_estimators=250,min_samples_leaf=5,n_jobs=-1)\n",
    "RF.fit(X_train,y_train)"
   ]
  },
  {
   "cell_type": "code",
   "execution_count": 6,
   "id": "0ee0371a",
   "metadata": {},
   "outputs": [],
   "source": [
    "prediction_proba=RF.predict_proba(X_test)[:,1]"
   ]
  },
  {
   "cell_type": "code",
   "execution_count": 7,
   "id": "56f31c4e",
   "metadata": {},
   "outputs": [
    {
     "data": {
      "image/png": "[encoded data removed]",
      "text/plain": [
       "<Figure size 640x480 with 1 Axes>"
      ]
     },
     "metadata": {},
     "output_type": "display_data"
    }
   ],
   "source": [
    "ams_dat,max_ams=ams_curve(prediction_proba,y_test,weights,test_ratio=1)"
   ]
  },
  {
   "cell_type": "code",
   "execution_count": 8,
   "id": "0bbb97a9",
   "metadata": {},
   "outputs": [],
   "source": [
    "np.savetxt('Data/RF_curve.csv',ams_dat)"
   ]
  },
  {
   "cell_type": "code",
   "execution_count": 9,
   "id": "5fdca2ca",
   "metadata": {},
   "outputs": [
    {
     "name": "stdout",
     "output_type": "stream",
     "text": [
      "Final AMS = 3.236380156037992\n"
     ]
    }
   ],
   "source": [
    "print('Final AMS = {}'.format(max_ams))"
   ]
  }
 ],
 "metadata": {
  "kernelspec": {
   "display_name": "Python 3 (ipykernel)",
   "language": "python",
   "name": "python3"
  },
  "language_info": {
   "codemirror_mode": {
    "name": "ipython",
    "version": 3
   },
   "file_extension": ".py",
   "mimetype": "text/x-python",
   "name": "python",
   "nbconvert_exporter": "python",
   "pygments_lexer": "ipython3",
   "version": "3.9.16"
  }
 },
 "nbformat": 4,
 "nbformat_minor": 5
}
